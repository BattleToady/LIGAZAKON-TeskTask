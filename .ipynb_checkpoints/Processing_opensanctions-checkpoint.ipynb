{
 "cells": [
  {
   "cell_type": "code",
   "execution_count": 2,
   "id": "a86547f1-24ec-44f7-9a97-c2ab4b058da9",
   "metadata": {},
   "outputs": [],
   "source": [
    "import os\n",
    "import json"
   ]
  },
  {
   "cell_type": "markdown",
   "id": "bc634cd1-c242-4b6e-af53-608ceac30fd2",
   "metadata": {},
   "source": [
    "Код для переведення даних open.sanctions в зручніший формат\n",
    "З огляду на умову задачі, нам потрібні наступні поля: \n",
    "* індентифікатор компанії(невпевнений який конкретно, що означає але зберіг і ogrnCode, і innCode),\n",
    "* назва компанії чи ім'я персони(name і caption на випадок, якщо першого немає),\n",
    "* крізь кого пов'язані санкціями(з огляду структури об'єктів побачив, що об'єкт в наборі є підсанкційним, в його полях в полі properties зустрічається подібні речі: наприклад власники чи директори компанії)\n",
    "Додатково зберігаю:\n",
    "* id(щоб якщо на практиці потрібні були якісь не взяті нами поля, то можна було б їх швидко і зручно найти)\n",
    "* список санкцій(аналогічно до id, але цей пункт на відміну від усіх інших полів нам швидше пригодиться)\n",
    "При цьому якщо sanctions = None, тоді цей об'єкт зв'язаний з підсанкційним через related_to і навпаки."
   ]
  },
  {
   "cell_type": "code",
   "execution_count": 104,
   "id": "98635653-485f-46e7-8c66-d517d12ba93d",
   "metadata": {},
   "outputs": [],
   "source": [
    "def parse(obj, related):\n",
    "    id = obj['id']\n",
    "    caption = obj['caption']\n",
    "    name = obj['properties']['name'] if ('name' in obj['properties']) else None\n",
    "    ogrnCode = (obj['properties']['ogrnCode']) if ('ogrnCode' in obj['properties'].keys()) else None\n",
    "    innCode = (obj['properties']['innCode']) if ('innCode' in obj['properties'].keys()) else None\n",
    "    sanctions = str(obj['properties']['sanctions']) if ('sanctions' in obj['properties']) else None\n",
    "\n",
    "    return {'id' : id, 'caption' : caption, 'name' : name, 'ogrnCode' : ogrnCode, 'innCode' : innCode, 'sanctions' : sanctions, 'related_to' : related}"
   ]
  },
  {
   "cell_type": "code",
   "execution_count": 109,
   "id": "f96b3d38-a062-4da2-9a94-618b4bd1ab9c",
   "metadata": {},
   "outputs": [],
   "source": [
    "counter = 0\n",
    "\n",
    "with open('data\\\\opensanctions_nonbinary.json', 'r', encoding = 'utf8') as f:\n",
    "    with open('data\\\\opensanctions_processed.json', 'w') as g:\n",
    "        for line in f:\n",
    "            obj = json.loads(line)\n",
    "            try:\n",
    "                parsed_obj = parse(obj, None)\n",
    "            except:\n",
    "                print('PARSING OBJ IS FAILED')\n",
    "                print(obj)\n",
    "            g.write(json.dumps(parsed_obj) + '\\n')\n",
    "\n",
    "            try:\n",
    "                if('OwnerShip' in obj['properties'].keys()):\n",
    "                    for ownership in obj['properties']['OwnerShip']:\n",
    "                        for owner in ownership['properties']['owner']:\n",
    "                            g.write(json.dumps(parse(owner, parsed_obj['id'])) + '\\n')\n",
    "            except:\n",
    "                print('PARSING OWNERSHIP IS FAILED')\n",
    "                print(obj)\n",
    "\n",
    "            try:\n",
    "                if('directorshipOrganization' in obj['properties'].keys()):\n",
    "                    for directorship in obj['properties']['directorshipOrganization']:\n",
    "                        for director in directorship['properties']['director']:\n",
    "                            g.write(json.dumps(parse(director, parsed_obj['id'])) + '\\n')\n",
    "            except:\n",
    "                print('PARSING DIRECTORSHIP IS FAILED')\n",
    "                print(obj)\n",
    "\n",
    "            try:\n",
    "                if('ownershipAsset' in obj['properties'].keys()):\n",
    "                    for ownership in obj['properties']['ownershipAsset']:\n",
    "                        for owner in ownership['properties']['owner']:\n",
    "                           g.write(json.dumps(parse(owner, parsed_obj['id'])) + '\\n')\n",
    "            except:\n",
    "                print('PARSING OWNERSHIPASSET IS FAILED')\n",
    "                print(obj)\n",
    "                        \n",
    "            counter += 1\n",
    "            if(counter == 10):\n",
    "                break"
   ]
  },
  {
   "cell_type": "code",
   "execution_count": 110,
   "id": "6aa23d63-0cef-4990-a37b-05ff24d8ef94",
   "metadata": {},
   "outputs": [
    {
     "name": "stdout",
     "output_type": "stream",
     "text": [
      "{\"id\":\"NK-224TRezPqwzhQZ37exWxtX\",\"caption\":\"SANAVBARI NIKITENKO\",\"schema\":\"Person\",\"properties\":{\"birthPlace\":[\"KOFARNIKHON TOWN\"],\"country\":[\"tj\"],\"nationality\":[\"ru\"],\"birthDate\":[\"1992-06-28\"],\"gender\":[\"female\"],\"sourceUrl\":[\"https://ws-public.interpol.int/notices/v1/red/2019-108810\"],\"lastName\":[\"NIKITENKO\"],\"firstName\":[\"SANAVBARI\"],\"name\":[\"SANAVBARI NIKITENKO\"],\"topics\":[\"crime\"],\"sanctions\":[{\"id\":\"interpol-red-2d1a22ea375cce282336a0a398edea0edd4a2f19\",\"caption\":\"Red Notice\",\"schema\":\"Sanction\",\"properties\":{\"country\":[\"ru\"],\"authority\":[\"INTERPOL\"],\"authorityId\":[\"2019/108810\"],\"program\":[\"Red Notice\"],\"entity\":[\"NK-224TRezPqwzhQZ37exWxtX\"],\"sourceUrl\":[\"https://www.interpol.int/How-we-work/Notices/View-Red-Notices\"],\"reason\":[\"participation in the activity of a terrorist organization; participation in the activity of an illegal armed formation\"]},\"referents\":[],\"datasets\":[\"interpol_red_notices\"],\"first_seen\":\"2023-06-06T16:26:42\",\"last_seen\":\"2023-12-07T00:27:01\",\"last_change\":\"2023-06-06T16:26:42\",\"target\":false}]},\"referents\":[\"ruterr-2cc9fc670c1ec3f8d1664c79c5ddc9957906834f\",\"interpol-red-2019-108810\"],\"datasets\":[\"interpol_red_notices\"],\"first_seen\":\"2023-05-06T06:10:15\",\"last_seen\":\"2023-12-07T00:27:01\",\"last_change\":\"2023-06-06T16:26:42\",\"target\":true}\n",
      "\n"
     ]
    }
   ],
   "source": [
    "with open('data\\\\opensanctions_nonbinary.json', 'r', encoding = 'utf8') as f:\n",
    "    print(f.readline())"
   ]
  },
  {
   "cell_type": "markdown",
   "id": "0944ab51-a948-4d91-a7bf-d95b32737c48",
   "metadata": {},
   "source": [
    "Вдосконалений парсер з відстеженням помилок в коді і виводом їх"
   ]
  },
  {
   "cell_type": "code",
   "execution_count": 116,
   "id": "e70fd100-369c-493d-866d-d4375d3ef895",
   "metadata": {},
   "outputs": [],
   "source": [
    "from json2txttree import json2txttree"
   ]
  },
  {
   "cell_type": "code",
   "execution_count": 131,
   "id": "ad421fe5-25e1-4fd0-ab1f-b80ec5095287",
   "metadata": {},
   "outputs": [],
   "source": [
    "with open('data\\\\opensanctions_nonbinary.json', 'r', encoding = 'utf8') as f:\n",
    "    with open('data\\\\opensanctions_processed.json', 'w') as g:\n",
    "        for line in f:\n",
    "            obj = json.loads(line)\n",
    "            try:\n",
    "                parsed_obj = parse(obj, None)\n",
    "                g.write(json.dumps(parsed_obj) + '\\n')\n",
    "            except Exception as error:\n",
    "                print('PARSING OBJ IS FAILED')\n",
    "                print(obj)\n",
    "                print(json2txttree(json.loads(line.replace('[]', '[1]'))))\n",
    "                print(error)\n",
    "            \n",
    "\n",
    "            try:\n",
    "                if('OwnerShip' in obj['properties'].keys()):\n",
    "                    for ownership in obj['properties']['OwnerShip']:\n",
    "                        for owner in ownership['properties']['owner']:\n",
    "                            g.write(json.dumps(parse(owner, parsed_obj['id'])) + '\\n')\n",
    "            except Exception as error:\n",
    "                print('PARSING OWNERSHIP IS FAILED')\n",
    "                print(obj)\n",
    "                print(json2txttree(json.loads(line.replace('[]', '[1]'))))\n",
    "                print(error)\n",
    "\n",
    "            try:\n",
    "                if('directorshipOrganization' in obj['properties'].keys()):\n",
    "                    for directorship in obj['properties']['directorshipOrganization']:\n",
    "                        for director in directorship['properties']['director']:\n",
    "                            g.write(json.dumps(parse(director, parsed_obj['id'])) + '\\n')\n",
    "            except Exception as error:\n",
    "                print('PARSING DIRECTORSHIP IS FAILED')\n",
    "                print(obj)\n",
    "                print(json2txttree(json.loads(line.replace('[]', '[1]'))))\n",
    "                print(error)"
   ]
  },
  {
   "cell_type": "code",
   "execution_count": null,
   "id": "bc999dbe-0926-405f-b839-09f467b84951",
   "metadata": {},
   "outputs": [],
   "source": []
  }
 ],
 "metadata": {
  "kernelspec": {
   "display_name": "Python 3 (ipykernel)",
   "language": "python",
   "name": "python3"
  },
  "language_info": {
   "codemirror_mode": {
    "name": "ipython",
    "version": 3
   },
   "file_extension": ".py",
   "mimetype": "text/x-python",
   "name": "python",
   "nbconvert_exporter": "python",
   "pygments_lexer": "ipython3",
   "version": "3.11.6"
  }
 },
 "nbformat": 4,
 "nbformat_minor": 5
}
