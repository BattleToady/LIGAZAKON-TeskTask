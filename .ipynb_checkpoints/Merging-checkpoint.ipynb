{
 "cells": [
  {
   "cell_type": "code",
   "execution_count": 17,
   "id": "a285dd99-8991-4b87-8441-858211eee551",
   "metadata": {},
   "outputs": [],
   "source": [
    "import pandas as pd\n",
    "import os\n",
    "import json"
   ]
  },
  {
   "cell_type": "markdown",
   "id": "6720aa51-f3a7-4bd9-9fc9-5e9fca587516",
   "metadata": {},
   "source": [
    "Вирішив об'єднати для зручності набору в один змерджений + навернути обдуману обробку"
   ]
  },
  {
   "cell_type": "code",
   "execution_count": 5,
   "id": "edbbe799-4073-48c2-b9f8-cf1363544bc1",
   "metadata": {},
   "outputs": [
    {
     "name": "stdout",
     "output_type": "stream",
     "text": [
      "General len:  477598\n",
      "Non-duplicates len:  421152\n",
      "Difference:  56446\n"
     ]
    }
   ],
   "source": [
    "general_len = 0\n",
    "names = list()\n",
    "\n",
    "for file_name in os.listdir('data'):\n",
    "    if('.csv' in file_name):\n",
    "        df = pd.read_csv('data\\\\' + file_name, sep = ';')\n",
    "        general_len += len(df)\n",
    "        names.append(df.FULL_NAME)\n",
    "\n",
    "names = pd.concat(names)\n",
    "print('General len: ', general_len)\n",
    "print('Non-duplicates len: ', len(names.drop_duplicates()))\n",
    "print('Difference: ', general_len - len(names.drop_duplicates()))"
   ]
  },
  {
   "cell_type": "code",
   "execution_count": 7,
   "id": "b7aeb4ca-daa3-433c-9a89-08587febb154",
   "metadata": {},
   "outputs": [],
   "source": [
    "dfs = list()\n",
    "\n",
    "for file_name in os.listdir('data'):\n",
    "    if('.csv' in file_name):\n",
    "        dfs.append(pd.read_csv('data\\\\' + file_name, sep = ';')[['TIN', 'FULL_NAME']])\n",
    "\n",
    "dfs = pd.concat(dfs)"
   ]
  },
  {
   "cell_type": "code",
   "execution_count": 8,
   "id": "1a501af9-fed2-4664-ae73-55d047e133b1",
   "metadata": {},
   "outputs": [],
   "source": [
    "dfs = dfs.drop_duplicates()"
   ]
  },
  {
   "cell_type": "code",
   "execution_count": 10,
   "id": "603b9746-5374-4e77-9b70-77737b8f0fc2",
   "metadata": {},
   "outputs": [],
   "source": [
    "dfs.to_csv('data\\\\cleared_csv.csv', index = False, quotechar = '|')"
   ]
  },
  {
   "cell_type": "code",
   "execution_count": 12,
   "id": "b6e0ae7e-0bc7-4fad-bcb3-a73df4e1ee06",
   "metadata": {},
   "outputs": [
    {
     "data": {
      "text/plain": [
       "429576"
      ]
     },
     "execution_count": 12,
     "metadata": {},
     "output_type": "execute_result"
    }
   ],
   "source": [
    "len(dfs)"
   ]
  },
  {
   "cell_type": "code",
   "execution_count": 11,
   "id": "bb6624d0-5629-4bfe-9352-7038434bc21c",
   "metadata": {},
   "outputs": [
    {
     "data": {
      "text/html": [
       "<div>\n",
       "<style scoped>\n",
       "    .dataframe tbody tr th:only-of-type {\n",
       "        vertical-align: middle;\n",
       "    }\n",
       "\n",
       "    .dataframe tbody tr th {\n",
       "        vertical-align: top;\n",
       "    }\n",
       "\n",
       "    .dataframe thead th {\n",
       "        text-align: right;\n",
       "    }\n",
       "</style>\n",
       "<table border=\"1\" class=\"dataframe\">\n",
       "  <thead>\n",
       "    <tr style=\"text-align: right;\">\n",
       "      <th></th>\n",
       "      <th>TIN</th>\n",
       "      <th>FULL_NAME</th>\n",
       "    </tr>\n",
       "  </thead>\n",
       "  <tbody>\n",
       "    <tr>\n",
       "      <th>0</th>\n",
       "      <td>376372</td>\n",
       "      <td>ДЕРЖАВНЕ ПІДПРИЄМСТВО \"БАРСЬКИЙ СПИРТОВИЙ КОМБ...</td>\n",
       "    </tr>\n",
       "    <tr>\n",
       "      <th>1</th>\n",
       "      <td>3967501</td>\n",
       "      <td>ПІДПРИЄМСТВО ОБ'ЄДНАННЯ ГРОМАДЯН \"БАРСЬКЕ УЧБО...</td>\n",
       "    </tr>\n",
       "    <tr>\n",
       "      <th>2</th>\n",
       "      <td>7686118</td>\n",
       "      <td>ВІЙСЬКОВА ЧАСТИНА А1603</td>\n",
       "    </tr>\n",
       "    <tr>\n",
       "      <th>3</th>\n",
       "      <td>14307570</td>\n",
       "      <td>ПРИВАТНЕ АКЦIОНЕРНЕ ТОВАРИСТВО \"БАРСЬКИЙ МАШИН...</td>\n",
       "    </tr>\n",
       "    <tr>\n",
       "      <th>4</th>\n",
       "      <td>30425482</td>\n",
       "      <td>ТОВАРИСТВО З ОБМЕЖЕНОЮ ВIДПОВIДАЛЬНIСТЮ \"ПФАНН...</td>\n",
       "    </tr>\n",
       "  </tbody>\n",
       "</table>\n",
       "</div>"
      ],
      "text/plain": [
       "        TIN                                          FULL_NAME\n",
       "0    376372  ДЕРЖАВНЕ ПІДПРИЄМСТВО \"БАРСЬКИЙ СПИРТОВИЙ КОМБ...\n",
       "1   3967501  ПІДПРИЄМСТВО ОБ'ЄДНАННЯ ГРОМАДЯН \"БАРСЬКЕ УЧБО...\n",
       "2   7686118                            ВІЙСЬКОВА ЧАСТИНА А1603\n",
       "3  14307570  ПРИВАТНЕ АКЦIОНЕРНЕ ТОВАРИСТВО \"БАРСЬКИЙ МАШИН...\n",
       "4  30425482  ТОВАРИСТВО З ОБМЕЖЕНОЮ ВIДПОВIДАЛЬНIСТЮ \"ПФАНН..."
      ]
     },
     "execution_count": 11,
     "metadata": {},
     "output_type": "execute_result"
    }
   ],
   "source": [
    "dfs.head()"
   ]
  },
  {
   "cell_type": "markdown",
   "id": "02e274be-bc4f-453a-8fa5-304ea6f73013",
   "metadata": {},
   "source": [
    "Наступний код мерджить чанками і стрічками(щоб не загрузити оперативку) дані в один файл.\n",
    "При цьому відразу фільтруються дані, які\n",
    "1) мають один спільний код\n",
    "2) 3 слова мають спільні в назві(1 - надто м'яка фільтрація на мою думку)\n",
    "Поки зробив набір на 100 000 записів"
   ]
  },
  {
   "cell_type": "code",
   "execution_count": null,
   "id": "44232291-6764-4314-8dc1-bcb1267ace62",
   "metadata": {},
   "outputs": [],
   "source": [
    "counter = 0\n",
    "counter_reached = False\n",
    "\n",
    "result_df = pd.DataFrame(columns = ['TIN', 'FULL_NAME', 'json_id', 'name', 'ogrnCode', 'innCode', 'sanctions', 'related_to', 'same_code', 'same_name', 'redused_full_name', 'redused_json_name'])\n",
    "result_df.to_csv('result_data_large.csv', index = False)\n",
    "for chunk in pd.read_csv('data\\\\cleared_csv.csv', quotechar = '|', chunksize = 1000):\n",
    "    for row in chunk.iterrows():\n",
    "        with open('data\\\\opensanctions_processed_uk.json', 'r') as f:          \n",
    "            for line in f:\n",
    "                obj = json.loads(line)\n",
    "    \n",
    "                code_equals = False\n",
    "                if(isinstance(obj['innCode'], list)):\n",
    "                    for innCode in obj['innCode']:\n",
    "                        if(innCode == row[1]['TIN']):\n",
    "                            code_equals = True\n",
    "                            break\n",
    "                if(isinstance(obj['ogrnCode'], list)):\n",
    "                    for ogrnCode in obj['ogrnCode']:\n",
    "                        if(ogrnCode == row[1]['TIN']):\n",
    "                            code_equals = True\n",
    "                            break\n",
    "\n",
    "                name_equals = False\n",
    "                name_counter = 0\n",
    "                obj_str = obj['name'].replace('\\\"', '').lower().strip() if (not obj['name'] is None) else obj['caption'].lower().strip()\n",
    "                words_obj = obj_str.split()\n",
    "                csv_str = row[1]['FULL_NAME'].replace('\\\"', '').lower().strip()\n",
    "                words_csv = csv_str.split()\n",
    "                for word_1 in words_obj:\n",
    "                    for word_2 in words_csv:\n",
    "                        if(word_1 == word_2):\n",
    "                            name_counter += 1\n",
    "                            if(name_counter > 2):\n",
    "                                name_equals = True\n",
    "                                break\n",
    "                    if(name_equals):\n",
    "                        break\n",
    "                if(name_equals):\n",
    "                    for word in words_obj:\n",
    "                        \n",
    "                        if((word in words_csv) and (word in words_obj)):\n",
    "                            csv_str = csv_str.replace(word, '')\n",
    "                            obj_str = obj_str.replace(word, '')\n",
    "                            \n",
    "                    csv_str = csv_str.strip()\n",
    "                    obj_str = obj_str.strip()\n",
    "                    if(len(csv_str) == 0):\n",
    "                        csv_str = 's'\n",
    "                    if(len(obj_str) == 0):\n",
    "                        obj_str = 's'\n",
    "                if((name_equals) or (code_equals)):\n",
    "                    new_row = {'TIN' : row[1]['TIN'], \n",
    "                                      'FULL_NAME' : csv_str, \n",
    "                                      'json_id' : obj['id'], \n",
    "                                      'name' : obj_str, \n",
    "                                      'ogrnCode' : str(obj['ogrnCode']), \n",
    "                                      'innCode' : str(obj['innCode']), \n",
    "                                      'sanctions' : str(obj['sanctions']),\n",
    "                                      'related_to' : str(obj['related_to']),\n",
    "                                      'same_code' : code_equals,\n",
    "                                      'same_name' : name_equals,\n",
    "                                      'redused_full_name' : csv_str,\n",
    "                                      'redused_json_name' : obj_str}\n",
    "                    result_df = pd.DataFrame(columns = ['TIN', 'FULL_NAME', 'json_id', 'name', 'ogrnCode', 'innCode', 'sanctions', 'related_to', 'same_code', 'same_name', 'redused_full_name', 'redused_json_name'])\n",
    "                    result_df = pd.concat([result_df, pd.DataFrame(new_row, index = [0])], ignore_index = False)\n",
    "                    result_df.to_csv('result_data_large.csv', mode = 'a', index = False, header = False)      \n",
    "                    counter += 1\n",
    "                    if(counter > 1000000):\n",
    "                        counter_reached = True\n",
    "                        break\n",
    "        if(counter_reached):\n",
    "            break\n",
    "    if(counter_reached):\n",
    "        break"
   ]
  },
  {
   "cell_type": "code",
   "execution_count": null,
   "id": "f11b7bca-f140-42a1-b79b-df5edd9c798f",
   "metadata": {},
   "outputs": [],
   "source": [
    "counter = 0\n",
    "for df in pd.read_csv('result_data_large.csv', chunksize = 1000):\n",
    "    counter += len(df)\n",
    "print('len: ', counter)"
   ]
  },
  {
   "cell_type": "code",
   "execution_count": null,
   "id": "2c74ec4f-c360-4e57-8894-44ff111d82ae",
   "metadata": {},
   "outputs": [],
   "source": []
  }
 ],
 "metadata": {
  "kernelspec": {
   "display_name": "Python 3 (ipykernel)",
   "language": "python",
   "name": "python3"
  },
  "language_info": {
   "codemirror_mode": {
    "name": "ipython",
    "version": 3
   },
   "file_extension": ".py",
   "mimetype": "text/x-python",
   "name": "python",
   "nbconvert_exporter": "python",
   "pygments_lexer": "ipython3",
   "version": "3.11.6"
  }
 },
 "nbformat": 4,
 "nbformat_minor": 5
}
