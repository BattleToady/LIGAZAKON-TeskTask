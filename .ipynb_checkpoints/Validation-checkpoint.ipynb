{
 "cells": [
  {
   "cell_type": "code",
   "execution_count": 2,
   "id": "c129cc30-27e1-4b7a-813f-d4251d533572",
   "metadata": {},
   "outputs": [
    {
     "name": "stdout",
     "output_type": "stream",
     "text": [
      "J0900108(S0100113) Balans forma 1.csv\n",
      "False\n",
      "J0900207(S0100213) Zvit finrez forma 2.csv\n",
      "False\n",
      "J0901107(S0110011) Finzvit malogo pidpr forma 1-m.csv\n",
      "False\n",
      "J0901205(S0111003) Finzvit mikropidpr forma 1-ms.csv\n",
      "False\n",
      "J0901702 konsol balans forma 1-k.csv\n",
      "False\n",
      "J0901801 konsol finzvit rezult forma 2-k.csv\n",
      "False\n",
      "J0902203 Balans konsol bank.csv\n",
      "False\n",
      "J0902303 Zvit konsol bank.csv\n",
      "False\n",
      "J0903203 Balans forma1-ds.csv\n",
      "False\n",
      "J0903303 Zvit finrez forma 2-ds.csv\n",
      "False\n",
      "opensanctions.json\n",
      "opensanctions_nonbinary.json\n"
     ]
    }
   ],
   "source": [
    "import pandas as pd\n",
    "import os\n",
    "\n",
    "for file_name in os.listdir('data'):\n",
    "    print(file_name)\n",
    "    if('.csv' in file_name):\n",
    "        print(pd.read_csv('data\\\\' + file_name, sep = ';')[['TIN', 'FULL_NAME', 'FORM_CODE', 'FORM_NAME', 'PERIOD_MONTH',\n",
    "       'PERIOD_YEAR', 'D_GET']].isna().any().any())"
   ]
  },
  {
   "cell_type": "markdown",
   "id": "f33bd1e8-7dde-4533-8f00-103fb421c802",
   "metadata": {},
   "source": [
    "Тут мала б бути краща валідація, але я в якийсь момент надто повірив в ці дані.\n",
    "Загалом потрібно перевіряти на:\n",
    "1) nan-values\n",
    "2) дублікати\n",
    "3) збереження структури загалом об'єкту\n",
    "4) збереження формату ознак"
   ]
  },
  {
   "cell_type": "markdown",
   "id": "b254e02c-1f4c-4ba0-b1e2-9af75494c9f1",
   "metadata": {},
   "source": [
    "Перевірив тільки чи скізь списки не нульової довжини"
   ]
  },
  {
   "cell_type": "code",
   "execution_count": null,
   "id": "4d0c8f64-2f0f-4206-a9c7-bef7047f73e1",
   "metadata": {},
   "outputs": [],
   "source": [
    "with open('data\\\\opensanctions_nonbinary.json', 'r', encoding = 'utf8') as f:\n",
    "    f.readline()\n",
    "    obj = json.loads(f.readline())\n",
    "    if(obj['schema'] in ['Person', 'Organization', 'Company']):\n",
    "        assert len(obj['properties']['name'][0]) == 0\n",
    "        assert len(obj['properties']['sanctions']) == 0\n",
    "        if(obj['schema'] == 'Organization'):\n",
    "            assert len(obj['properties']['ogrnCode][0]) == 0\n",
    "            assert len(obj['properties']['innCode][0]) == 0"
   ]
  },
  {
   "cell_type": "code",
   "execution_count": null,
   "id": "5d133dbf-7fbe-45b2-87f2-4af324bcfe0e",
   "metadata": {},
   "outputs": [],
   "source": []
  }
 ],
 "metadata": {
  "kernelspec": {
   "display_name": "Python 3 (ipykernel)",
   "language": "python",
   "name": "python3"
  },
  "language_info": {
   "codemirror_mode": {
    "name": "ipython",
    "version": 3
   },
   "file_extension": ".py",
   "mimetype": "text/x-python",
   "name": "python",
   "nbconvert_exporter": "python",
   "pygments_lexer": "ipython3",
   "version": "3.11.6"
  }
 },
 "nbformat": 4,
 "nbformat_minor": 5
}
